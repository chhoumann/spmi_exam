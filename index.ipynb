{
  "cells": [
    {
      "cell_type": "raw",
      "metadata": {},
      "source": [
        "---\n",
        "title: spMI Exam\n",
        "subtitle: ''\n",
        "author: Christian Bager Bach Houmann\n",
        "date: '2023-09-22'\n",
        "date-format: D MMM YYYY\n",
        "slide-number: true\n",
        "bibliography: static/references.bib\n",
        "format:\n",
        "  revealjs:\n",
        "    theme: default\n",
        "    toc: false\n",
        "---"
      ],
      "id": "f7173d3c"
    },
    {
      "cell_type": "markdown",
      "metadata": {},
      "source": [
        "## Quarto\n",
        "\n",
        "Quarto enables you to weave together content and executable code into a finished document. To learn more about Quarto see <https://quarto.org>.\n"
      ],
      "id": "ec8e37ba"
    },
    {
      "cell_type": "code",
      "metadata": {},
      "source": [
        "import numpy as np\n",
        "r=3\n",
        "theta = 4 * np.pi * r\n",
        "theta"
      ],
      "id": "1402d676",
      "execution_count": null,
      "outputs": []
    }
  ],
  "metadata": {
    "kernelspec": {
      "name": "venv",
      "language": "python",
      "display_name": "venv"
    }
  },
  "nbformat": 4,
  "nbformat_minor": 5
}